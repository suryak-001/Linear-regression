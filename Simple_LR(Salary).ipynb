{
  "nbformat": 4,
  "nbformat_minor": 0,
  "metadata": {
    "colab": {
      "name": "Simple LR(Salary).ipynb",
      "provenance": [],
      "collapsed_sections": [],
      "include_colab_link": true
    },
    "kernelspec": {
      "name": "python3",
      "display_name": "Python 3"
    },
    "language_info": {
      "name": "python"
    }
  },
  "cells": [
    {
      "cell_type": "markdown",
      "metadata": {
        "id": "view-in-github",
        "colab_type": "text"
      },
      "source": [
        "<a href=\"https://colab.research.google.com/github/suryak-001/Linear-regression/blob/main/Simple_LR(Salary).ipynb\" target=\"_parent\"><img src=\"https://colab.research.google.com/assets/colab-badge.svg\" alt=\"Open In Colab\"/></a>"
      ]
    },
    {
      "cell_type": "code",
      "metadata": {
        "id": "fLuDKad30cLH",
        "colab": {
          "base_uri": "https://localhost:8080/",
          "height": 295
        },
        "outputId": "f0db7312-55e9-4459-b408-c565c190a0ef"
      },
      "source": [
        "import numpy as np\n",
        "import pandas as pd\n",
        "import matplotlib.pyplot as plt\n",
        "\n",
        "ds = pd.read_csv('https://raw.githubusercontent.com/akhildhanesh/surya-csv/main/Salary_Data.csv')\n",
        "\n",
        "x=ds.iloc[:,:-1].values\n",
        "y=ds.iloc[:,-1].values\n",
        "\n",
        "\n",
        "from sklearn.model_selection import train_test_split\n",
        "x_train,x_test,y_train,y_test=train_test_split(x,y,test_size=0.2, random_state=1)\n",
        "\n",
        "from sklearn.linear_model import LinearRegression\n",
        "\n",
        "reg=LinearRegression()\n",
        "reg.fit(x_train,y_train)\n",
        "\n",
        "y_pred=reg.predict(x_test)\n",
        "\n",
        "plt.scatter(x_test,y_test,color='blue')\n",
        "plt.plot(x_train, reg.predict(x_train), color = 'blue')\n",
        "plt.title('Salary vs Experience (Test set)')\n",
        "plt.xlabel('Years of Experience')\n",
        "plt.ylabel('Salary')\n",
        "plt.show()\n",
        "\n"
      ],
      "execution_count": 9,
      "outputs": [
        {
          "output_type": "display_data",
          "data": {
            "image/png": "[encoded data removed]",
            "text/plain": [
              "<Figure size 432x288 with 1 Axes>"
            ]
          },
          "metadata": {
            "tags": [],
            "needs_background": "light"
          }
        }
      ]
    }
  ]
}